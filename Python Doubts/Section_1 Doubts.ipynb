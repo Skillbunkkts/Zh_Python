{
 "cells": [
  {
   "cell_type": "markdown",
   "id": "5c225ce3-a9d3-4618-b903-89738ae7364a",
   "metadata": {},
   "source": [
    "# 1. Compiler vs Interpreter ― తెలుగు వివరాలు (Hybrid Approach)\n",
    "# Telugu Explanantion:\n",
    "\n",
    "**Compiler (కంపైలర్)**  \n",
    "కంపైలర్ అనేది ఒక ప్రోగ్రామింగ్ language లో రాసిన code (source code) ను మొత్తం ఒకేసారి చదివి, దాన్ని machine language (object code) గా కన్వర్ట్ చేస్తుంది.  \n",
    "- డెవలపర్ source code ను రాస్తాడు → కంపైలర్ మొత్తం code ను once చదవడంతో error messages అన్నీ compile time లో వస్తాయి.  \n",
    "- Output: Executable file (.exe, .out etc.)  \n",
    "- Program ను బయట run చేయాలంటే, ఆ file ను ఇంకొకసారి compiler అవసరం లేదు.  \n",
    "- Examples: C, C++, Java (compilation stage), Go.\n",
    "\n",
    "**Interpreter (ఇంటర్ ప్రెటర్)**  \n",
    "ఇంటర్ ప్రెటర్ కూడా source code ను తీసుకుంటుంది కానీ line by line గా execute చేస్తుంది.  \n",
    "- ఎంత లైన్ వస్తే అంతలు సమర్ధించే పద్ధతిలో పనిచేస్తుంది.  \n",
    "- Every time program నడిపినప్పుడు interpreter అవసరం అవుతుంది.  \n",
    "- Program లో error అయితే execution దాకా వస్తుంది, ఆ error వచ్చిన దగ్గరి line దగ్గర execution ఆగిపోతుంది.  \n",
    "- Output: Direct execution, No standalone file.  \n",
    "- Examples: Python, Ruby, JavaScript (browser engines), PHP.\n",
    "\n",
    "**అవే ముఖ్యమైన తేడాలు (Key Differences):**\n",
    "\n",
    "| Feature          | Compiler                        | Interpreter                      |\n",
    "|------------------|---------------------------------|-----------------------------------|\n",
    "| Translation Time | Whole program at once           | One line at a time                |\n",
    "| Output           | Standalone file                  | Direct execution (no output file) |\n",
    "| Speed            | Generally faster (after compile) | Slower (line by line execution)   |\n",
    "| Error Reporting  | After full scan (all at once)   | One line at a time (first error)  |\n",
    "| Examples         | C, C++, Java                    | Python, Ruby, JavaScript          |\n",
    "\n",
    "**Hybrids:**  \n",
    "Java, .NET languages: ముందుగా compilation (bytecode), తరవాత interpretation (JVM, CLR).  \n",
    "- Example: Java code → Compiler (Bytecode) → Interpreter (JVM) executes bytecode.\n",
    "\n",
    "**Summary:**\n",
    "Compiler లేదా interpreter రెండు computer programming లో code execution కోసం వాడుతూ ఉంటారు. Compiler మొత్తం code ను ముందుగా translate చేస్తుంది, interpreter ఒకటొకటిగా ఆపదును. కొన్ని languages రెండూ వాడతాయి (Java — hybrid approach).\n",
    "\n",
    "**Tech terms:** Compiler, Interpreter, Source code, Machine code, Executable, Compile-time, Runtime, Bytecode, JVM, CLR.\n",
    "\n"
   ]
  },
  {
   "cell_type": "markdown",
   "id": "df5c547c-0ee3-4cee-bf73-5eae51c0a434",
   "metadata": {},
   "source": [
    "----------\n",
    "----------"
   ]
  },
  {
   "cell_type": "markdown",
   "id": "587f1680-589f-42e1-b59a-d6d1c2c1f88d",
   "metadata": {},
   "source": [
    "# 1. Compiler vs Interpreter ― తెలుగు వివరాలు (Hybrid Approach)\n",
    "\n",
    "# English\n",
    "\n",
    "**Compiler**  \n",
    "A compiler is a software tool that takes the entire program’s source code, analyzes it, and converts it into machine code (object code) in one go.  \n",
    "- The developer writes source code, and the compiler translates the whole code at once.\n",
    "- If there are errors, all error messages are shown after the compilation is done (compile-time errors).\n",
    "- Output: A standalone executable file (.exe, .out, etc.).\n",
    "- Once compiled, you can run the program multiple times without needing the compiler again.\n",
    "- Examples: C, C++, Go, Java (compilation phase).\n",
    "\n",
    "**Interpreter**  \n",
    "An interpreter is a program that executes code line by line, translating each line to machine instructions and executing them immediately.  \n",
    "- Interpreters work sequentially, executing one line at a time.\n",
    "- Every time you run the program, the interpreter is required.\n",
    "- If there’s an error in the code, the execution stops at that particular line (runtime errors).\n",
    "- Output: There’s no separate executable file; the interpreter runs the code directly each time.\n",
    "- Examples: Python, Ruby, JavaScript (browser engines), PHP.\n",
    "\n",
    "**Key Differences:**\n",
    "\n",
    "| Feature           | Compiler                          | Interpreter                         |\n",
    "|-------------------|-----------------------------------|-------------------------------------|\n",
    "| Translation Time  | Translates whole program at once  | Translates and executes one line at a time |\n",
    "| Output            | Standalone executable file        | No output file; executes directly   |\n",
    "| Speed             | Generally faster after compilation| Slower (line-by-line execution)     |\n",
    "| Error Handling    | Errors shown after full scan      | Stops and reports error at first occurrence |\n",
    "| Examples          | C, C++, Java                     | Python, Ruby, JavaScript            |\n",
    "\n",
    "**Hybrid Approach (Both Compiler and Interpreter):**  \n",
    "Some languages, like Java and .NET languages, use both compilation and interpretation:\n",
    "- Example: Java code is first compiled into bytecode by the compiler.\n",
    "- The bytecode is then interpreted (or just-in-time compiled) by the JVM (Java Virtual Machine) for execution.\n",
    "\n",
    "**Summary:**  \n",
    "A compiler processes and translates the entire source code at once, producing a separate executable file; it’s generally faster in execution. An interpreter translates and executes code one line at a time and needs to be present each time the program runs; it is more flexible but can be slower.\n",
    "\n",
    "**Common Tech Terms:** Compiler, Interpreter, Source code, Machine code, Executable, Compile-time, Runtime, Bytecode, JVM, CLR.\n",
    "\n"
   ]
  },
  {
   "cell_type": "code",
   "execution_count": null,
   "id": "76240010-1f51-45f8-9714-00403096a7c0",
   "metadata": {},
   "outputs": [],
   "source": []
  }
 ],
 "metadata": {
  "kernelspec": {
   "display_name": "Python 3 (ipykernel)",
   "language": "python",
   "name": "python3"
  },
  "language_info": {
   "codemirror_mode": {
    "name": "ipython",
    "version": 3
   },
   "file_extension": ".py",
   "mimetype": "text/x-python",
   "name": "python",
   "nbconvert_exporter": "python",
   "pygments_lexer": "ipython3",
   "version": "3.13.4"
  }
 },
 "nbformat": 4,
 "nbformat_minor": 5
}
